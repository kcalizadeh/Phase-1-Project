{
 "cells": [
  {
   "cell_type": "markdown",
   "metadata": {},
   "source": [
    "possible questions \n",
    "- is there a connection between ratings and profits A - NO. correlation coefficient of 0.18 means a very slight positive correlation. this means we can more or less disregard ratings when considering what kind of movie to make.\n",
    "- is there a connection between \"star power\" and profits\n",
    "- what genres are best performing (by rating, and by profits) - \n",
    "- what languages are best performing (by rating, and by profits)\n",
    "- who should we hire to make our movies (eg who has the most high performing movies?) "
   ]
  },
  {
   "cell_type": "code",
   "execution_count": 1,
   "metadata": {},
   "outputs": [],
   "source": [
    "# import relevant modules\n",
    "import pandas as pd\n",
    "import numpy as np\n",
    "import matplotlib.pyplot as plt\n",
    "import seaborn as sns\n",
    "import patoolib"
   ]
  },
  {
   "cell_type": "code",
   "execution_count": 12,
   "metadata": {},
   "outputs": [
    {
     "name": "stdout",
     "output_type": "stream",
     "text": [
      "patool: Extracting .\\zippedData\\imdb.title.basics.csv.gz ...\n",
      "patool: running \"\"C:\\Program Files\\Git\\usr\\bin\\gzip.EXE\"\" -c -d -- .\\zippedData\\imdb.title.basics.csv.gz > Movie_Data\\imdb.title.basics.csv4\n",
      "patool:     with shell=True\n",
      "patool: ... .\\zippedData\\imdb.title.basics.csv.gz extracted to `Movie_Data'.\n",
      "patool: Extracting .\\zippedData\\imdb.name.basics.csv.gz ...\n",
      "patool: running \"\"C:\\Program Files\\Git\\usr\\bin\\gzip.EXE\"\" -c -d -- .\\zippedData\\imdb.name.basics.csv.gz > Movie_Data\\imdb.name.basics.csv4\n",
      "patool:     with shell=True\n",
      "patool: ... .\\zippedData\\imdb.name.basics.csv.gz extracted to `Movie_Data'.\n",
      "patool: Extracting .\\zippedData\\imdb.title.ratings.csv.gz ...\n",
      "patool: running \"\"C:\\Program Files\\Git\\usr\\bin\\gzip.EXE\"\" -c -d -- .\\zippedData\\imdb.title.ratings.csv.gz > Movie_Data\\imdb.title.ratings.csv4\n",
      "patool:     with shell=True\n",
      "patool: ... .\\zippedData\\imdb.title.ratings.csv.gz extracted to `Movie_Data'.\n",
      "patool: Extracting .\\zippedData\\imdb.title.principals.csv.gz ...\n",
      "patool: running \"\"C:\\Program Files\\Git\\usr\\bin\\gzip.EXE\"\" -c -d -- .\\zippedData\\imdb.title.principals.csv.gz > Movie_Data\\imdb.title.principals.csv4\n",
      "patool:     with shell=True\n",
      "patool: ... .\\zippedData\\imdb.title.principals.csv.gz extracted to `Movie_Data'.\n",
      "patool: Extracting .\\zippedData\\tn.movie_budgets.csv.gz ...\n",
      "patool: running \"\"C:\\Program Files\\Git\\usr\\bin\\gzip.EXE\"\" -c -d -- .\\zippedData\\tn.movie_budgets.csv.gz > Movie_Data\\tn.movie_budgets.csv4\n",
      "patool:     with shell=True\n",
      "patool: ... .\\zippedData\\tn.movie_budgets.csv.gz extracted to `Movie_Data'.\n",
      "patool: Extracting .\\zippedData\\imdb.title.crew.csv.gz ...\n",
      "patool: running \"\"C:\\Program Files\\Git\\usr\\bin\\gzip.EXE\"\" -c -d -- .\\zippedData\\imdb.title.crew.csv.gz > Movie_Data\\imdb.title.crew.csv\n",
      "patool:     with shell=True\n",
      "patool: ... .\\zippedData\\imdb.title.crew.csv.gz extracted to `Movie_Data'.\n"
     ]
    }
   ],
   "source": [
    "# extract the files\n",
    "patoolib.extract_archive('.\\zippedData\\\\imdb.title.basics.csv.gz', outdir='Movie_Data')\n",
    "patoolib.extract_archive('.\\zippedData\\\\imdb.name.basics.csv.gz', outdir='Movie_Data')\n",
    "patoolib.extract_archive('.\\zippedData\\\\imdb.title.ratings.csv.gz', outdir='Movie_Data')\n",
    "patoolib.extract_archive('.\\zippedData\\\\imdb.title.principals.csv.gz', outdir='Movie_Data')\n",
    "patoolib.extract_archive('.\\zippedData\\\\tn.movie_budgets.csv.gz', outdir='Movie_Data')\n",
    "patoolib.extract_archive('.\\zippedData\\\\imdb.title.crew.csv.gz', outdir='Movie_Data')\n",
    "\n",
    "# read data into dataframes\n",
    "title_basics = pd.read_csv('.\\Movie_Data\\\\imdb.title.basics.csv')\n",
    "name_basics = pd.read_csv('.\\Movie_Data\\\\imdb.name.basics.csv')\n",
    "title_rate = pd.read_csv('.\\Movie_Data\\\\imdb.title.ratings.csv')\n",
    "title_prin = pd.read_csv('.\\Movie_Data\\\\imdb.title.principals.csv')\n",
    "budgets = pd.read_csv('.\\Movie_Data\\\\tn.movie_budgets.csv')\n",
    "title_crew = pd.read_csv('.\\Movie_Data\\\\imdb.title.crew.csv')\n"
   ]
  },
  {
   "cell_type": "code",
   "execution_count": 11,
   "metadata": {},
   "outputs": [],
   "source": [
    "# open the data\n",
    "title_basics = pd.read_csv('.\\Movie_Data\\\\imdb.title.basics.csv')\n",
    "name_basics = pd.read_csv('.\\Movie_Data\\\\imdb.name.basics.csv')\n",
    "#gross = pd.read_csv('.\\Movie_Data\\\\bom.movie_gross.csv')\n",
    "#rt = pd.read_csv('.\\Movie_Data\\\\rt.movie_info.tsv', sep='\\t')\n",
    "#title_aka = pd.read_csv('.\\Movie_Data\\\\title.akas.csv')\n",
    "title_crew = pd.read_csv('.\\Movie_Data\\\\imdb.title.crew.csv')\n",
    "title_rate = pd.read_csv('.\\Movie_Data\\\\imdb.title.ratings.csv')\n",
    "title_prin = pd.read_csv('.\\Movie_Data\\\\imdb.title.principals.csv')\n",
    "#tm_movies = pd.read_csv('.\\Movie_Data\\\\tmdb.movies.csv')\n",
    "budgets = pd.read_csv('.\\Movie_Data\\\\tn.movie_budgets.csv')"
   ]
  },
  {
   "cell_type": "code",
   "execution_count": 6,
   "metadata": {},
   "outputs": [
    {
     "data": {
      "text/html": [
       "<div>\n",
       "<style scoped>\n",
       "    .dataframe tbody tr th:only-of-type {\n",
       "        vertical-align: middle;\n",
       "    }\n",
       "\n",
       "    .dataframe tbody tr th {\n",
       "        vertical-align: top;\n",
       "    }\n",
       "\n",
       "    .dataframe thead th {\n",
       "        text-align: right;\n",
       "    }\n",
       "</style>\n",
       "<table border=\"1\" class=\"dataframe\">\n",
       "  <thead>\n",
       "    <tr style=\"text-align: right;\">\n",
       "      <th></th>\n",
       "      <th>id</th>\n",
       "      <th>release_date</th>\n",
       "      <th>movie</th>\n",
       "      <th>production_budget</th>\n",
       "      <th>domestic_gross</th>\n",
       "      <th>worldwide_gross</th>\n",
       "      <th>net</th>\n",
       "    </tr>\n",
       "  </thead>\n",
       "  <tbody>\n",
       "    <tr>\n",
       "      <th>0</th>\n",
       "      <td>1</td>\n",
       "      <td>2009-12-18</td>\n",
       "      <td>Avatar</td>\n",
       "      <td>425000000.0</td>\n",
       "      <td>760507625.0</td>\n",
       "      <td>2.776345e+09</td>\n",
       "      <td>2.351345e+09</td>\n",
       "    </tr>\n",
       "    <tr>\n",
       "      <th>42</th>\n",
       "      <td>43</td>\n",
       "      <td>1997-12-19</td>\n",
       "      <td>Titanic</td>\n",
       "      <td>200000000.0</td>\n",
       "      <td>659363944.0</td>\n",
       "      <td>2.208208e+09</td>\n",
       "      <td>2.008208e+09</td>\n",
       "    </tr>\n",
       "    <tr>\n",
       "      <th>6</th>\n",
       "      <td>7</td>\n",
       "      <td>2018-04-27</td>\n",
       "      <td>Avengers: Infinity War</td>\n",
       "      <td>300000000.0</td>\n",
       "      <td>678815482.0</td>\n",
       "      <td>2.048134e+09</td>\n",
       "      <td>1.748134e+09</td>\n",
       "    </tr>\n",
       "    <tr>\n",
       "      <th>5</th>\n",
       "      <td>6</td>\n",
       "      <td>2015-12-18</td>\n",
       "      <td>Star Wars Ep. VII: The Force Awakens</td>\n",
       "      <td>306000000.0</td>\n",
       "      <td>936662225.0</td>\n",
       "      <td>2.053311e+09</td>\n",
       "      <td>1.747311e+09</td>\n",
       "    </tr>\n",
       "    <tr>\n",
       "      <th>33</th>\n",
       "      <td>34</td>\n",
       "      <td>2015-06-12</td>\n",
       "      <td>Jurassic World</td>\n",
       "      <td>215000000.0</td>\n",
       "      <td>652270625.0</td>\n",
       "      <td>1.648855e+09</td>\n",
       "      <td>1.433855e+09</td>\n",
       "    </tr>\n",
       "  </tbody>\n",
       "</table>\n",
       "</div>"
      ],
      "text/plain": [
       "    id release_date                                 movie  production_budget  \\\n",
       "0    1   2009-12-18                                Avatar        425000000.0   \n",
       "42  43   1997-12-19                               Titanic        200000000.0   \n",
       "6    7   2018-04-27                Avengers: Infinity War        300000000.0   \n",
       "5    6   2015-12-18  Star Wars Ep. VII: The Force Awakens        306000000.0   \n",
       "33  34   2015-06-12                        Jurassic World        215000000.0   \n",
       "\n",
       "    domestic_gross  worldwide_gross           net  \n",
       "0      760507625.0     2.776345e+09  2.351345e+09  \n",
       "42     659363944.0     2.208208e+09  2.008208e+09  \n",
       "6      678815482.0     2.048134e+09  1.748134e+09  \n",
       "5      936662225.0     2.053311e+09  1.747311e+09  \n",
       "33     652270625.0     1.648855e+09  1.433855e+09  "
      ]
     },
     "execution_count": 6,
     "metadata": {},
     "output_type": "execute_result"
    }
   ],
   "source": [
    "# since we are interested in modern trends, we exclude data from over 25 years ago.\n",
    "budgets['release_date'] = pd.to_datetime(budgets['release_date'])\n",
    "budgets = budgets.loc[budgets['release_date'] > '1995-1-1']\n",
    "\n",
    "# remove duplicate titles\n",
    "budgets = budgets.drop_duplicates(subset='movie')\n",
    "\n",
    "# a function for turning money data into integer\n",
    "def money_to_float(dataframe, column_name):\n",
    "    dataframe[column_name] = dataframe[column_name].map(lambda x: x[1:].replace(',', '') if x[0] == '$' else x).astype(float)\n",
    "\n",
    "# applying this function to the information about budgets in order to find out which movies turned the biggest profits\n",
    "money_to_float(budgets, 'production_budget')\n",
    "money_to_float(budgets, 'worldwide_gross')\n",
    "money_to_float(budgets, 'domestic_gross')\n",
    "\n",
    "#creating a column for net profits, as opposed to just gross, then displaying the top 5 profit-making movies\n",
    "budgets['net'] = budgets['worldwide_gross'] - budgets['production_budget']\n",
    "budgets.sort_values('net', ascending=False).head()"
   ]
  },
  {
   "cell_type": "code",
   "execution_count": null,
   "metadata": {},
   "outputs": [],
   "source": []
  },
  {
   "cell_type": "code",
   "execution_count": 4,
   "metadata": {},
   "outputs": [
    {
     "name": "stdout",
     "output_type": "stream",
     "text": [
      "<class 'pandas.core.frame.DataFrame'>\n",
      "RangeIndex: 146144 entries, 0 to 146143\n",
      "Data columns (total 6 columns):\n",
      "tconst             146144 non-null object\n",
      "primary_title      146144 non-null object\n",
      "original_title     146123 non-null object\n",
      "start_year         146144 non-null int64\n",
      "runtime_minutes    114405 non-null float64\n",
      "genres             140736 non-null object\n",
      "dtypes: float64(1), int64(1), object(4)\n",
      "memory usage: 6.7+ MB\n"
     ]
    }
   ],
   "source": [
    "title_basics.info()"
   ]
  },
  {
   "cell_type": "code",
   "execution_count": 24,
   "metadata": {},
   "outputs": [
    {
     "data": {
      "text/html": [
       "<div>\n",
       "<style scoped>\n",
       "    .dataframe tbody tr th:only-of-type {\n",
       "        vertical-align: middle;\n",
       "    }\n",
       "\n",
       "    .dataframe tbody tr th {\n",
       "        vertical-align: top;\n",
       "    }\n",
       "\n",
       "    .dataframe thead th {\n",
       "        text-align: right;\n",
       "    }\n",
       "</style>\n",
       "<table border=\"1\" class=\"dataframe\">\n",
       "  <thead>\n",
       "    <tr style=\"text-align: right;\">\n",
       "      <th></th>\n",
       "      <th>tconst</th>\n",
       "      <th>primary_title</th>\n",
       "      <th>original_title</th>\n",
       "      <th>start_year</th>\n",
       "      <th>runtime_minutes</th>\n",
       "      <th>genres</th>\n",
       "    </tr>\n",
       "  </thead>\n",
       "  <tbody>\n",
       "    <tr>\n",
       "      <th>0</th>\n",
       "      <td>tt0063540</td>\n",
       "      <td>Sunghursh</td>\n",
       "      <td>Sunghursh</td>\n",
       "      <td>2013</td>\n",
       "      <td>175.0</td>\n",
       "      <td>Action,Crime,Drama</td>\n",
       "    </tr>\n",
       "    <tr>\n",
       "      <th>1</th>\n",
       "      <td>tt0066787</td>\n",
       "      <td>One Day Before the Rainy Season</td>\n",
       "      <td>Ashad Ka Ek Din</td>\n",
       "      <td>2019</td>\n",
       "      <td>114.0</td>\n",
       "      <td>Biography,Drama</td>\n",
       "    </tr>\n",
       "    <tr>\n",
       "      <th>2</th>\n",
       "      <td>tt0069049</td>\n",
       "      <td>The Other Side of the Wind</td>\n",
       "      <td>The Other Side of the Wind</td>\n",
       "      <td>2018</td>\n",
       "      <td>122.0</td>\n",
       "      <td>Drama</td>\n",
       "    </tr>\n",
       "    <tr>\n",
       "      <th>3</th>\n",
       "      <td>tt0069204</td>\n",
       "      <td>Sabse Bada Sukh</td>\n",
       "      <td>Sabse Bada Sukh</td>\n",
       "      <td>2018</td>\n",
       "      <td>NaN</td>\n",
       "      <td>Comedy,Drama</td>\n",
       "    </tr>\n",
       "    <tr>\n",
       "      <th>4</th>\n",
       "      <td>tt0100275</td>\n",
       "      <td>The Wandering Soap Opera</td>\n",
       "      <td>La Telenovela Errante</td>\n",
       "      <td>2017</td>\n",
       "      <td>80.0</td>\n",
       "      <td>Comedy,Drama,Fantasy</td>\n",
       "    </tr>\n",
       "    <tr>\n",
       "      <th>...</th>\n",
       "      <td>...</td>\n",
       "      <td>...</td>\n",
       "      <td>...</td>\n",
       "      <td>...</td>\n",
       "      <td>...</td>\n",
       "      <td>...</td>\n",
       "    </tr>\n",
       "    <tr>\n",
       "      <th>146139</th>\n",
       "      <td>tt9916538</td>\n",
       "      <td>Kuambil Lagi Hatiku</td>\n",
       "      <td>Kuambil Lagi Hatiku</td>\n",
       "      <td>2019</td>\n",
       "      <td>123.0</td>\n",
       "      <td>Drama</td>\n",
       "    </tr>\n",
       "    <tr>\n",
       "      <th>146140</th>\n",
       "      <td>tt9916622</td>\n",
       "      <td>Rodolpho Teóphilo - O Legado de um Pioneiro</td>\n",
       "      <td>Rodolpho Teóphilo - O Legado de um Pioneiro</td>\n",
       "      <td>2015</td>\n",
       "      <td>NaN</td>\n",
       "      <td>Documentary</td>\n",
       "    </tr>\n",
       "    <tr>\n",
       "      <th>146141</th>\n",
       "      <td>tt9916706</td>\n",
       "      <td>Dankyavar Danka</td>\n",
       "      <td>Dankyavar Danka</td>\n",
       "      <td>2013</td>\n",
       "      <td>NaN</td>\n",
       "      <td>Comedy</td>\n",
       "    </tr>\n",
       "    <tr>\n",
       "      <th>146142</th>\n",
       "      <td>tt9916730</td>\n",
       "      <td>6 Gunn</td>\n",
       "      <td>6 Gunn</td>\n",
       "      <td>2017</td>\n",
       "      <td>116.0</td>\n",
       "      <td>NaN</td>\n",
       "    </tr>\n",
       "    <tr>\n",
       "      <th>146143</th>\n",
       "      <td>tt9916754</td>\n",
       "      <td>Chico Albuquerque - Revelações</td>\n",
       "      <td>Chico Albuquerque - Revelações</td>\n",
       "      <td>2013</td>\n",
       "      <td>NaN</td>\n",
       "      <td>Documentary</td>\n",
       "    </tr>\n",
       "  </tbody>\n",
       "</table>\n",
       "<p>136071 rows × 6 columns</p>\n",
       "</div>"
      ],
      "text/plain": [
       "           tconst                                primary_title  \\\n",
       "0       tt0063540                                    Sunghursh   \n",
       "1       tt0066787              One Day Before the Rainy Season   \n",
       "2       tt0069049                   The Other Side of the Wind   \n",
       "3       tt0069204                              Sabse Bada Sukh   \n",
       "4       tt0100275                     The Wandering Soap Opera   \n",
       "...           ...                                          ...   \n",
       "146139  tt9916538                          Kuambil Lagi Hatiku   \n",
       "146140  tt9916622  Rodolpho Teóphilo - O Legado de um Pioneiro   \n",
       "146141  tt9916706                              Dankyavar Danka   \n",
       "146142  tt9916730                                       6 Gunn   \n",
       "146143  tt9916754               Chico Albuquerque - Revelações   \n",
       "\n",
       "                                     original_title  start_year  \\\n",
       "0                                         Sunghursh        2013   \n",
       "1                                   Ashad Ka Ek Din        2019   \n",
       "2                        The Other Side of the Wind        2018   \n",
       "3                                   Sabse Bada Sukh        2018   \n",
       "4                             La Telenovela Errante        2017   \n",
       "...                                             ...         ...   \n",
       "146139                          Kuambil Lagi Hatiku        2019   \n",
       "146140  Rodolpho Teóphilo - O Legado de um Pioneiro        2015   \n",
       "146141                              Dankyavar Danka        2013   \n",
       "146142                                       6 Gunn        2017   \n",
       "146143               Chico Albuquerque - Revelações        2013   \n",
       "\n",
       "        runtime_minutes                genres  \n",
       "0                 175.0    Action,Crime,Drama  \n",
       "1                 114.0       Biography,Drama  \n",
       "2                 122.0                 Drama  \n",
       "3                   NaN          Comedy,Drama  \n",
       "4                  80.0  Comedy,Drama,Fantasy  \n",
       "...                 ...                   ...  \n",
       "146139            123.0                 Drama  \n",
       "146140              NaN           Documentary  \n",
       "146141              NaN                Comedy  \n",
       "146142            116.0                   NaN  \n",
       "146143              NaN           Documentary  \n",
       "\n",
       "[136071 rows x 6 columns]"
      ]
     },
     "execution_count": 24,
     "metadata": {},
     "output_type": "execute_result"
    }
   ],
   "source": [
    "title_basics.drop_duplicates(subset='primary_title')"
   ]
  },
  {
   "cell_type": "code",
   "execution_count": 12,
   "metadata": {},
   "outputs": [
    {
     "data": {
      "text/plain": [
       "4966"
      ]
     },
     "execution_count": 12,
     "metadata": {},
     "output_type": "execute_result"
    }
   ],
   "source": [
    "len(budgets)"
   ]
  },
  {
   "cell_type": "code",
   "execution_count": null,
   "metadata": {},
   "outputs": [],
   "source": []
  },
  {
   "cell_type": "code",
   "execution_count": 17,
   "metadata": {},
   "outputs": [],
   "source": [
    "prim = title_basics.rename(columns={'primary_title': 'movie'}).merge(budgets, on='movie')\n",
    "orig = title_basics.rename(columns={'original_title': 'movie'}).merge(budgets, on='movie')"
   ]
  },
  {
   "cell_type": "code",
   "execution_count": 18,
   "metadata": {},
   "outputs": [
    {
     "data": {
      "text/plain": [
       "(3405, 3188)"
      ]
     },
     "execution_count": 18,
     "metadata": {},
     "output_type": "execute_result"
    }
   ],
   "source": [
    "len(prim), len(orig)"
   ]
  },
  {
   "cell_type": "code",
   "execution_count": 19,
   "metadata": {},
   "outputs": [
    {
     "data": {
      "text/plain": [
       "2201"
      ]
     },
     "execution_count": 19,
     "metadata": {},
     "output_type": "execute_result"
    }
   ],
   "source": [
    "len(prim.drop_duplicates(subset='movie'))"
   ]
  },
  {
   "cell_type": "code",
   "execution_count": 20,
   "metadata": {},
   "outputs": [
    {
     "data": {
      "text/plain": [
       "2168"
      ]
     },
     "execution_count": 20,
     "metadata": {},
     "output_type": "execute_result"
    }
   ],
   "source": [
    "len(orig.drop_duplicates(subset='movie'))"
   ]
  },
  {
   "cell_type": "code",
   "execution_count": 39,
   "metadata": {},
   "outputs": [
    {
     "data": {
      "text/plain": [
       "146144"
      ]
     },
     "execution_count": 39,
     "metadata": {},
     "output_type": "execute_result"
    }
   ],
   "source": [
    "len(title_crew.merge(title_basics, on='tconst'))"
   ]
  },
  {
   "cell_type": "code",
   "execution_count": 36,
   "metadata": {},
   "outputs": [],
   "source": [
    "crews = crews.drop_duplicates(subset='original_title')"
   ]
  },
  {
   "cell_type": "code",
   "execution_count": 38,
   "metadata": {},
   "outputs": [
    {
     "data": {
      "text/plain": [
       "137774"
      ]
     },
     "execution_count": 38,
     "metadata": {},
     "output_type": "execute_result"
    }
   ],
   "source": [
    "len(crews)"
   ]
  },
  {
   "cell_type": "code",
   "execution_count": 40,
   "metadata": {},
   "outputs": [
    {
     "name": "stdout",
     "output_type": "stream",
     "text": [
      "<class 'pandas.core.frame.DataFrame'>\n",
      "Int64Index: 137774 entries, 0 to 146142\n",
      "Data columns (total 8 columns):\n",
      "tconst             137774 non-null object\n",
      "directors          132502 non-null object\n",
      "writers            103665 non-null object\n",
      "primary_title      137774 non-null object\n",
      "original_title     137773 non-null object\n",
      "start_year         137774 non-null int64\n",
      "runtime_minutes    107920 non-null float64\n",
      "genres             132758 non-null object\n",
      "dtypes: float64(1), int64(1), object(6)\n",
      "memory usage: 9.5+ MB\n"
     ]
    }
   ],
   "source": [
    "crews.info()"
   ]
  },
  {
   "cell_type": "code",
   "execution_count": 42,
   "metadata": {},
   "outputs": [],
   "source": [
    "crews = crews.rename(columns={'original_title': 'movie'})\n",
    "crews = crews.drop_duplicates(subset='movie')\n",
    "\n",
    "directors = crews.set_index('movie').directors.str.split(',',\n",
    "            expand=True).stack().reset_index(level=1, \n",
    "            drop=True).to_frame('directors').reset_index()\n",
    "\n",
    "# take this and add in the movie names and budgets\n",
    "directors = directors.rename(columns={'directors': 'nconst'}).merge(name_basics, on='nconst').merge(budgets, \n",
    "                                        on='movie').drop(['id', 'death_year', 'birth_year', 'known_for_titles'], axis=1)\n"
   ]
  },
  {
   "cell_type": "code",
   "execution_count": 43,
   "metadata": {},
   "outputs": [
    {
     "name": "stdout",
     "output_type": "stream",
     "text": [
      "<class 'pandas.core.frame.DataFrame'>\n",
      "Int64Index: 2395 entries, 0 to 2394\n",
      "Data columns (total 9 columns):\n",
      "movie                 2395 non-null object\n",
      "nconst                2395 non-null object\n",
      "primary_name          2395 non-null object\n",
      "primary_profession    2392 non-null object\n",
      "release_date          2395 non-null datetime64[ns]\n",
      "production_budget     2395 non-null float64\n",
      "domestic_gross        2395 non-null float64\n",
      "worldwide_gross       2395 non-null float64\n",
      "net                   2395 non-null float64\n",
      "dtypes: datetime64[ns](1), float64(4), object(4)\n",
      "memory usage: 187.1+ KB\n"
     ]
    }
   ],
   "source": [
    "directors.info()"
   ]
  },
  {
   "cell_type": "code",
   "execution_count": null,
   "metadata": {},
   "outputs": [],
   "source": []
  },
  {
   "cell_type": "code",
   "execution_count": null,
   "metadata": {},
   "outputs": [],
   "source": []
  },
  {
   "cell_type": "code",
   "execution_count": null,
   "metadata": {},
   "outputs": [],
   "source": [
    "directors.loc[directors['primary_name'] == 'Christopher Nolan'], directors.loc[directors['primary_name'] == 'Marilyn Barnes']"
   ]
  },
  {
   "cell_type": "code",
   "execution_count": null,
   "metadata": {},
   "outputs": [],
   "source": []
  },
  {
   "cell_type": "code",
   "execution_count": null,
   "metadata": {},
   "outputs": [],
   "source": []
  },
  {
   "cell_type": "code",
   "execution_count": 44,
   "metadata": {},
   "outputs": [],
   "source": [
    "writers = crews.set_index('movie').writers.str.split(',',\n",
    "            expand=True).stack().reset_index(level=1, \n",
    "            drop=True).to_frame('writers').reset_index()\n",
    "\n",
    "# we take this and add in the movie names and budgets\n",
    "writers = writers.rename(columns={'writers': 'nconst'}).merge(name_basics, on='nconst').merge(budgets, \n",
    "                                         on='movie').drop(['id', 'death_year', 'birth_year', 'known_for_titles'], axis=1)\n"
   ]
  },
  {
   "cell_type": "code",
   "execution_count": 45,
   "metadata": {},
   "outputs": [
    {
     "name": "stdout",
     "output_type": "stream",
     "text": [
      "<class 'pandas.core.frame.DataFrame'>\n",
      "Int64Index: 4617 entries, 0 to 4616\n",
      "Data columns (total 9 columns):\n",
      "movie                 4617 non-null object\n",
      "nconst                4617 non-null object\n",
      "primary_name          4617 non-null object\n",
      "primary_profession    4615 non-null object\n",
      "release_date          4617 non-null datetime64[ns]\n",
      "production_budget     4617 non-null float64\n",
      "domestic_gross        4617 non-null float64\n",
      "worldwide_gross       4617 non-null float64\n",
      "net                   4617 non-null float64\n",
      "dtypes: datetime64[ns](1), float64(4), object(4)\n",
      "memory usage: 360.7+ KB\n"
     ]
    }
   ],
   "source": [
    "writers.info()"
   ]
  },
  {
   "cell_type": "code",
   "execution_count": 48,
   "metadata": {},
   "outputs": [
    {
     "data": {
      "text/plain": [
       "Jack Kirby                  18\n",
       "Stan Lee                    17\n",
       "Nicholas Stoller            10\n",
       "Luc Besson                   9\n",
       "Oren Peli                    7\n",
       "                            ..\n",
       "Duncan Jones                 1\n",
       "Gerard Michael MacCarthy     1\n",
       "Karyn Bosnak                 1\n",
       "Steven Summers               1\n",
       "Quentin Dupieux              1\n",
       "Name: primary_name, Length: 3460, dtype: int64"
      ]
     },
     "execution_count": 48,
     "metadata": {},
     "output_type": "execute_result"
    }
   ],
   "source": [
    "writers['primary_name'].value_counts()"
   ]
  },
  {
   "cell_type": "code",
   "execution_count": null,
   "metadata": {},
   "outputs": [],
   "source": [
    "experienced_directors.loc[experienced_directors['primary_name'] == 'Pierre Coffin']"
   ]
  },
  {
   "cell_type": "code",
   "execution_count": 60,
   "metadata": {},
   "outputs": [
    {
     "data": {
      "text/html": [
       "<div>\n",
       "<style scoped>\n",
       "    .dataframe tbody tr th:only-of-type {\n",
       "        vertical-align: middle;\n",
       "    }\n",
       "\n",
       "    .dataframe tbody tr th {\n",
       "        vertical-align: top;\n",
       "    }\n",
       "\n",
       "    .dataframe thead th {\n",
       "        text-align: right;\n",
       "    }\n",
       "</style>\n",
       "<table border=\"1\" class=\"dataframe\">\n",
       "  <thead>\n",
       "    <tr style=\"text-align: right;\">\n",
       "      <th></th>\n",
       "      <th>movie</th>\n",
       "      <th>nconst</th>\n",
       "      <th>primary_name</th>\n",
       "      <th>primary_profession</th>\n",
       "      <th>release_date</th>\n",
       "      <th>production_budget</th>\n",
       "      <th>domestic_gross</th>\n",
       "      <th>worldwide_gross</th>\n",
       "      <th>net</th>\n",
       "    </tr>\n",
       "  </thead>\n",
       "  <tbody>\n",
       "    <tr>\n",
       "      <th>244</th>\n",
       "      <td>Spider-Man: Homecoming</td>\n",
       "      <td>nm0800209</td>\n",
       "      <td>Joe Simon</td>\n",
       "      <td>writer,miscellaneous</td>\n",
       "      <td>2017-07-07</td>\n",
       "      <td>175000000.0</td>\n",
       "      <td>334201140.0</td>\n",
       "      <td>8.801664e+08</td>\n",
       "      <td>7.051664e+08</td>\n",
       "    </tr>\n",
       "    <tr>\n",
       "      <th>467</th>\n",
       "      <td>Captain America: Civil War</td>\n",
       "      <td>nm0800209</td>\n",
       "      <td>Joe Simon</td>\n",
       "      <td>writer,miscellaneous</td>\n",
       "      <td>2016-05-06</td>\n",
       "      <td>250000000.0</td>\n",
       "      <td>408084349.0</td>\n",
       "      <td>1.140069e+09</td>\n",
       "      <td>8.900694e+08</td>\n",
       "    </tr>\n",
       "    <tr>\n",
       "      <th>476</th>\n",
       "      <td>Avengers: Age of Ultron</td>\n",
       "      <td>nm0800209</td>\n",
       "      <td>Joe Simon</td>\n",
       "      <td>writer,miscellaneous</td>\n",
       "      <td>2015-05-01</td>\n",
       "      <td>330600000.0</td>\n",
       "      <td>459005868.0</td>\n",
       "      <td>1.403014e+09</td>\n",
       "      <td>1.072414e+09</td>\n",
       "    </tr>\n",
       "    <tr>\n",
       "      <th>507</th>\n",
       "      <td>Captain America: The Winter Soldier</td>\n",
       "      <td>nm0800209</td>\n",
       "      <td>Joe Simon</td>\n",
       "      <td>writer,miscellaneous</td>\n",
       "      <td>2014-04-04</td>\n",
       "      <td>170000000.0</td>\n",
       "      <td>259746958.0</td>\n",
       "      <td>7.144019e+08</td>\n",
       "      <td>5.444019e+08</td>\n",
       "    </tr>\n",
       "    <tr>\n",
       "      <th>522</th>\n",
       "      <td>Captain America: The First Avenger</td>\n",
       "      <td>nm0800209</td>\n",
       "      <td>Joe Simon</td>\n",
       "      <td>writer,miscellaneous</td>\n",
       "      <td>2011-07-22</td>\n",
       "      <td>140000000.0</td>\n",
       "      <td>176654505.0</td>\n",
       "      <td>3.705698e+08</td>\n",
       "      <td>2.305698e+08</td>\n",
       "    </tr>\n",
       "    <tr>\n",
       "      <th>528</th>\n",
       "      <td>Avengers: Infinity War</td>\n",
       "      <td>nm0800209</td>\n",
       "      <td>Joe Simon</td>\n",
       "      <td>writer,miscellaneous</td>\n",
       "      <td>2018-04-27</td>\n",
       "      <td>300000000.0</td>\n",
       "      <td>678815482.0</td>\n",
       "      <td>2.048134e+09</td>\n",
       "      <td>1.748134e+09</td>\n",
       "    </tr>\n",
       "  </tbody>\n",
       "</table>\n",
       "</div>"
      ],
      "text/plain": [
       "                                   movie     nconst primary_name  \\\n",
       "244               Spider-Man: Homecoming  nm0800209    Joe Simon   \n",
       "467           Captain America: Civil War  nm0800209    Joe Simon   \n",
       "476              Avengers: Age of Ultron  nm0800209    Joe Simon   \n",
       "507  Captain America: The Winter Soldier  nm0800209    Joe Simon   \n",
       "522   Captain America: The First Avenger  nm0800209    Joe Simon   \n",
       "528               Avengers: Infinity War  nm0800209    Joe Simon   \n",
       "\n",
       "       primary_profession release_date  production_budget  domestic_gross  \\\n",
       "244  writer,miscellaneous   2017-07-07        175000000.0     334201140.0   \n",
       "467  writer,miscellaneous   2016-05-06        250000000.0     408084349.0   \n",
       "476  writer,miscellaneous   2015-05-01        330600000.0     459005868.0   \n",
       "507  writer,miscellaneous   2014-04-04        170000000.0     259746958.0   \n",
       "522  writer,miscellaneous   2011-07-22        140000000.0     176654505.0   \n",
       "528  writer,miscellaneous   2018-04-27        300000000.0     678815482.0   \n",
       "\n",
       "     worldwide_gross           net  \n",
       "244     8.801664e+08  7.051664e+08  \n",
       "467     1.140069e+09  8.900694e+08  \n",
       "476     1.403014e+09  1.072414e+09  \n",
       "507     7.144019e+08  5.444019e+08  \n",
       "522     3.705698e+08  2.305698e+08  \n",
       "528     2.048134e+09  1.748134e+09  "
      ]
     },
     "execution_count": 60,
     "metadata": {},
     "output_type": "execute_result"
    }
   ],
   "source": [
    "writers[writers['primary_name'] == 'Joe Simon']"
   ]
  },
  {
   "cell_type": "code",
   "execution_count": 50,
   "metadata": {},
   "outputs": [],
   "source": [
    "writer_film_count = pd.DataFrame(writers['primary_name'].value_counts()).reset_index().rename(columns={'index': 'name', 'primary_name': 'film_count'})\n",
    "experienced_writer_list = list(writer_film_count.loc[writer_film_count['film_count'] >= 4]['name'])\n",
    "experienced_writers = writers.loc[writers['primary_name'].isin(experienced_writer_list)].copy()"
   ]
  },
  {
   "cell_type": "code",
   "execution_count": 54,
   "metadata": {},
   "outputs": [
    {
     "data": {
      "text/html": [
       "<div>\n",
       "<style scoped>\n",
       "    .dataframe tbody tr th:only-of-type {\n",
       "        vertical-align: middle;\n",
       "    }\n",
       "\n",
       "    .dataframe tbody tr th {\n",
       "        vertical-align: top;\n",
       "    }\n",
       "\n",
       "    .dataframe thead th {\n",
       "        text-align: right;\n",
       "    }\n",
       "</style>\n",
       "<table border=\"1\" class=\"dataframe\">\n",
       "  <thead>\n",
       "    <tr style=\"text-align: right;\">\n",
       "      <th></th>\n",
       "      <th>production_budget</th>\n",
       "      <th>domestic_gross</th>\n",
       "      <th>worldwide_gross</th>\n",
       "      <th>net</th>\n",
       "    </tr>\n",
       "    <tr>\n",
       "      <th>primary_name</th>\n",
       "      <th></th>\n",
       "      <th></th>\n",
       "      <th></th>\n",
       "      <th></th>\n",
       "    </tr>\n",
       "  </thead>\n",
       "  <tbody>\n",
       "    <tr>\n",
       "      <th>Joe Simon</th>\n",
       "      <td>2.276000e+08</td>\n",
       "      <td>3.860847e+08</td>\n",
       "      <td>1.092726e+09</td>\n",
       "      <td>8.651259e+08</td>\n",
       "    </tr>\n",
       "    <tr>\n",
       "      <th>Joss Whedon</th>\n",
       "      <td>2.214000e+08</td>\n",
       "      <td>3.383457e+08</td>\n",
       "      <td>9.118963e+08</td>\n",
       "      <td>6.904963e+08</td>\n",
       "    </tr>\n",
       "    <tr>\n",
       "      <th>Ken Daurio</th>\n",
       "      <td>7.160000e+07</td>\n",
       "      <td>2.721347e+08</td>\n",
       "      <td>7.257635e+08</td>\n",
       "      <td>6.541635e+08</td>\n",
       "    </tr>\n",
       "    <tr>\n",
       "      <th>Cinco Paul</th>\n",
       "      <td>7.160000e+07</td>\n",
       "      <td>2.721347e+08</td>\n",
       "      <td>7.257635e+08</td>\n",
       "      <td>6.541635e+08</td>\n",
       "    </tr>\n",
       "    <tr>\n",
       "      <th>Larry Lieber</th>\n",
       "      <td>1.728571e+08</td>\n",
       "      <td>2.986501e+08</td>\n",
       "      <td>8.217433e+08</td>\n",
       "      <td>6.488861e+08</td>\n",
       "    </tr>\n",
       "    <tr>\n",
       "      <th>Suzanne Collins</th>\n",
       "      <td>1.237500e+08</td>\n",
       "      <td>3.628846e+08</td>\n",
       "      <td>7.395883e+08</td>\n",
       "      <td>6.158383e+08</td>\n",
       "    </tr>\n",
       "    <tr>\n",
       "      <th>Christopher Markus</th>\n",
       "      <td>1.701429e+08</td>\n",
       "      <td>2.691322e+08</td>\n",
       "      <td>7.738914e+08</td>\n",
       "      <td>6.037486e+08</td>\n",
       "    </tr>\n",
       "    <tr>\n",
       "      <th>Stephen McFeely</th>\n",
       "      <td>1.701429e+08</td>\n",
       "      <td>2.691322e+08</td>\n",
       "      <td>7.738914e+08</td>\n",
       "      <td>6.037486e+08</td>\n",
       "    </tr>\n",
       "    <tr>\n",
       "      <th>Derek Connolly</th>\n",
       "      <td>1.391500e+08</td>\n",
       "      <td>2.550849e+08</td>\n",
       "      <td>7.163530e+08</td>\n",
       "      <td>5.772030e+08</td>\n",
       "    </tr>\n",
       "    <tr>\n",
       "      <th>Chris McKenna</th>\n",
       "      <td>1.187500e+08</td>\n",
       "      <td>2.827773e+08</td>\n",
       "      <td>6.946168e+08</td>\n",
       "      <td>5.758668e+08</td>\n",
       "    </tr>\n",
       "    <tr>\n",
       "      <th>Erik Sommers</th>\n",
       "      <td>1.187500e+08</td>\n",
       "      <td>2.827773e+08</td>\n",
       "      <td>6.946168e+08</td>\n",
       "      <td>5.758668e+08</td>\n",
       "    </tr>\n",
       "    <tr>\n",
       "      <th>Stan Lee</th>\n",
       "      <td>1.969765e+08</td>\n",
       "      <td>2.805640e+08</td>\n",
       "      <td>7.726438e+08</td>\n",
       "      <td>5.756673e+08</td>\n",
       "    </tr>\n",
       "    <tr>\n",
       "      <th>Jack Kirby</th>\n",
       "      <td>2.013111e+08</td>\n",
       "      <td>2.858651e+08</td>\n",
       "      <td>7.707022e+08</td>\n",
       "      <td>5.693911e+08</td>\n",
       "    </tr>\n",
       "    <tr>\n",
       "      <th>Steve Ditko</th>\n",
       "      <td>1.900000e+08</td>\n",
       "      <td>2.579319e+08</td>\n",
       "      <td>7.558644e+08</td>\n",
       "      <td>5.658644e+08</td>\n",
       "    </tr>\n",
       "    <tr>\n",
       "      <th>Christopher Nolan</th>\n",
       "      <td>1.950000e+08</td>\n",
       "      <td>2.819694e+08</td>\n",
       "      <td>7.508360e+08</td>\n",
       "      <td>5.558360e+08</td>\n",
       "    </tr>\n",
       "    <tr>\n",
       "      <th>Peter Jackson</th>\n",
       "      <td>2.125000e+08</td>\n",
       "      <td>2.081103e+08</td>\n",
       "      <td>7.520589e+08</td>\n",
       "      <td>5.395589e+08</td>\n",
       "    </tr>\n",
       "    <tr>\n",
       "      <th>Fran Walsh</th>\n",
       "      <td>2.125000e+08</td>\n",
       "      <td>2.081103e+08</td>\n",
       "      <td>7.520589e+08</td>\n",
       "      <td>5.395589e+08</td>\n",
       "    </tr>\n",
       "    <tr>\n",
       "      <th>Philippa Boyens</th>\n",
       "      <td>2.125000e+08</td>\n",
       "      <td>2.081103e+08</td>\n",
       "      <td>7.520589e+08</td>\n",
       "      <td>5.395589e+08</td>\n",
       "    </tr>\n",
       "    <tr>\n",
       "      <th>Ehren Kruger</th>\n",
       "      <td>1.712500e+08</td>\n",
       "      <td>1.880691e+08</td>\n",
       "      <td>6.851862e+08</td>\n",
       "      <td>5.139362e+08</td>\n",
       "    </tr>\n",
       "    <tr>\n",
       "      <th>Bob Kane</th>\n",
       "      <td>2.262500e+08</td>\n",
       "      <td>2.958185e+08</td>\n",
       "      <td>7.296362e+08</td>\n",
       "      <td>5.033862e+08</td>\n",
       "    </tr>\n",
       "  </tbody>\n",
       "</table>\n",
       "</div>"
      ],
      "text/plain": [
       "                    production_budget  domestic_gross  worldwide_gross  \\\n",
       "primary_name                                                             \n",
       "Joe Simon                2.276000e+08    3.860847e+08     1.092726e+09   \n",
       "Joss Whedon              2.214000e+08    3.383457e+08     9.118963e+08   \n",
       "Ken Daurio               7.160000e+07    2.721347e+08     7.257635e+08   \n",
       "Cinco Paul               7.160000e+07    2.721347e+08     7.257635e+08   \n",
       "Larry Lieber             1.728571e+08    2.986501e+08     8.217433e+08   \n",
       "Suzanne Collins          1.237500e+08    3.628846e+08     7.395883e+08   \n",
       "Christopher Markus       1.701429e+08    2.691322e+08     7.738914e+08   \n",
       "Stephen McFeely          1.701429e+08    2.691322e+08     7.738914e+08   \n",
       "Derek Connolly           1.391500e+08    2.550849e+08     7.163530e+08   \n",
       "Chris McKenna            1.187500e+08    2.827773e+08     6.946168e+08   \n",
       "Erik Sommers             1.187500e+08    2.827773e+08     6.946168e+08   \n",
       "Stan Lee                 1.969765e+08    2.805640e+08     7.726438e+08   \n",
       "Jack Kirby               2.013111e+08    2.858651e+08     7.707022e+08   \n",
       "Steve Ditko              1.900000e+08    2.579319e+08     7.558644e+08   \n",
       "Christopher Nolan        1.950000e+08    2.819694e+08     7.508360e+08   \n",
       "Peter Jackson            2.125000e+08    2.081103e+08     7.520589e+08   \n",
       "Fran Walsh               2.125000e+08    2.081103e+08     7.520589e+08   \n",
       "Philippa Boyens          2.125000e+08    2.081103e+08     7.520589e+08   \n",
       "Ehren Kruger             1.712500e+08    1.880691e+08     6.851862e+08   \n",
       "Bob Kane                 2.262500e+08    2.958185e+08     7.296362e+08   \n",
       "\n",
       "                             net  \n",
       "primary_name                      \n",
       "Joe Simon           8.651259e+08  \n",
       "Joss Whedon         6.904963e+08  \n",
       "Ken Daurio          6.541635e+08  \n",
       "Cinco Paul          6.541635e+08  \n",
       "Larry Lieber        6.488861e+08  \n",
       "Suzanne Collins     6.158383e+08  \n",
       "Christopher Markus  6.037486e+08  \n",
       "Stephen McFeely     6.037486e+08  \n",
       "Derek Connolly      5.772030e+08  \n",
       "Chris McKenna       5.758668e+08  \n",
       "Erik Sommers        5.758668e+08  \n",
       "Stan Lee            5.756673e+08  \n",
       "Jack Kirby          5.693911e+08  \n",
       "Steve Ditko         5.658644e+08  \n",
       "Christopher Nolan   5.558360e+08  \n",
       "Peter Jackson       5.395589e+08  \n",
       "Fran Walsh          5.395589e+08  \n",
       "Philippa Boyens     5.395589e+08  \n",
       "Ehren Kruger        5.139362e+08  \n",
       "Bob Kane            5.033862e+08  "
      ]
     },
     "execution_count": 54,
     "metadata": {},
     "output_type": "execute_result"
    }
   ],
   "source": [
    "experienced_writers.groupby('primary_name').mean().sort_values('net', ascending=False).head(20)"
   ]
  },
  {
   "cell_type": "code",
   "execution_count": null,
   "metadata": {},
   "outputs": [],
   "source": []
  },
  {
   "cell_type": "code",
   "execution_count": null,
   "metadata": {},
   "outputs": [],
   "source": []
  },
  {
   "cell_type": "code",
   "execution_count": null,
   "metadata": {},
   "outputs": [],
   "source": []
  },
  {
   "cell_type": "code",
   "execution_count": null,
   "metadata": {},
   "outputs": [],
   "source": []
  },
  {
   "cell_type": "code",
   "execution_count": null,
   "metadata": {},
   "outputs": [],
   "source": []
  },
  {
   "cell_type": "code",
   "execution_count": null,
   "metadata": {},
   "outputs": [],
   "source": []
  },
  {
   "cell_type": "code",
   "execution_count": null,
   "metadata": {},
   "outputs": [],
   "source": []
  },
  {
   "cell_type": "code",
   "execution_count": null,
   "metadata": {},
   "outputs": [],
   "source": []
  },
  {
   "cell_type": "code",
   "execution_count": null,
   "metadata": {},
   "outputs": [],
   "source": []
  },
  {
   "cell_type": "code",
   "execution_count": null,
   "metadata": {},
   "outputs": [],
   "source": []
  },
  {
   "cell_type": "code",
   "execution_count": null,
   "metadata": {},
   "outputs": [],
   "source": []
  },
  {
   "cell_type": "code",
   "execution_count": null,
   "metadata": {},
   "outputs": [],
   "source": []
  },
  {
   "cell_type": "code",
   "execution_count": null,
   "metadata": {},
   "outputs": [],
   "source": []
  },
  {
   "cell_type": "code",
   "execution_count": null,
   "metadata": {},
   "outputs": [],
   "source": []
  },
  {
   "cell_type": "code",
   "execution_count": null,
   "metadata": {},
   "outputs": [],
   "source": []
  },
  {
   "cell_type": "code",
   "execution_count": null,
   "metadata": {},
   "outputs": [],
   "source": []
  },
  {
   "cell_type": "code",
   "execution_count": null,
   "metadata": {},
   "outputs": [],
   "source": []
  },
  {
   "cell_type": "code",
   "execution_count": null,
   "metadata": {},
   "outputs": [],
   "source": []
  },
  {
   "cell_type": "code",
   "execution_count": null,
   "metadata": {},
   "outputs": [],
   "source": []
  },
  {
   "cell_type": "raw",
   "metadata": {},
   "source": []
  },
  {
   "cell_type": "code",
   "execution_count": null,
   "metadata": {},
   "outputs": [],
   "source": []
  },
  {
   "cell_type": "code",
   "execution_count": null,
   "metadata": {},
   "outputs": [],
   "source": []
  },
  {
   "cell_type": "code",
   "execution_count": null,
   "metadata": {},
   "outputs": [],
   "source": []
  },
  {
   "cell_type": "code",
   "execution_count": null,
   "metadata": {},
   "outputs": [],
   "source": []
  },
  {
   "cell_type": "code",
   "execution_count": null,
   "metadata": {},
   "outputs": [],
   "source": []
  },
  {
   "cell_type": "code",
   "execution_count": null,
   "metadata": {},
   "outputs": [],
   "source": []
  },
  {
   "cell_type": "code",
   "execution_count": null,
   "metadata": {},
   "outputs": [],
   "source": []
  },
  {
   "cell_type": "code",
   "execution_count": null,
   "metadata": {},
   "outputs": [],
   "source": []
  },
  {
   "cell_type": "code",
   "execution_count": null,
   "metadata": {},
   "outputs": [],
   "source": []
  },
  {
   "cell_type": "code",
   "execution_count": null,
   "metadata": {},
   "outputs": [],
   "source": []
  },
  {
   "cell_type": "code",
   "execution_count": null,
   "metadata": {},
   "outputs": [],
   "source": [
    "rate_and_profit = rate_and_profit.drop_duplicates(subset='movie').dropna(subset=['genres'])"
   ]
  },
  {
   "cell_type": "code",
   "execution_count": null,
   "metadata": {},
   "outputs": [],
   "source": []
  },
  {
   "cell_type": "code",
   "execution_count": null,
   "metadata": {},
   "outputs": [],
   "source": []
  },
  {
   "cell_type": "code",
   "execution_count": null,
   "metadata": {},
   "outputs": [],
   "source": []
  },
  {
   "cell_type": "code",
   "execution_count": null,
   "metadata": {},
   "outputs": [],
   "source": [
    "# begin by bringing in the crews info for each monvie\n",
    "crews = title_crew.merge(title_basics, on='tconst')\n",
    "crews = crews.rename(columns={'original_title': 'movie'})\n",
    "\n",
    "# expand the directors for which there are multiple directors\n",
    "writers = crews.set_index('movie').writers.str.split(',',\n",
    "            expand=True).stack().reset_index(level=1, \n",
    "            drop=True).to_frame('writers').reset_index()\n",
    "\n",
    "# # take this and add in the movie names and budgets\n",
    "writers = writers.rename(columns={'writers': 'nconst'}).merge(name_basics, on='nconst').merge(budgets, \n",
    "                                         on='movie').drop(['id', 'death_year', 'birth_year', 'known_for_titles'], axis=1)\n",
    "\n",
    "# we don't want to just sum earnings, since that would bias us towards those with the most movies, even if their movies were not\n",
    "# consistently good. But if we use the mean, we risk being biased to new directors with just one good movie. So we filter out \n",
    "# newer directors and only then find the mean. This gives us the mean for experienced directors only.\n",
    "writer_film_count = pd.DataFrame(writers['primary_name'].value_counts()).reset_index().rename(columns={'index': 'name', 'primary_name': 'film_count'})\n",
    "experienced_writer_list = list(writer_film_count.loc[writer_film_count['film_count'] >= 4]['name'])\n",
    "experienced_writers = writers.loc[writers['primary_name'].isin(experienced_writer_list)].copy()\n",
    "top_10_writers = experienced_writers.groupby('primary_name').mean().sort_values('net', ascending=False).reset_index().head(10)"
   ]
  },
  {
   "cell_type": "code",
   "execution_count": null,
   "metadata": {},
   "outputs": [],
   "source": [
    "top_10_writers"
   ]
  },
  {
   "cell_type": "code",
   "execution_count": null,
   "metadata": {},
   "outputs": [],
   "source": [
    "len(writers)"
   ]
  },
  {
   "cell_type": "code",
   "execution_count": null,
   "metadata": {},
   "outputs": [],
   "source": [
    "experienced_writer_list[:10]"
   ]
  },
  {
   "cell_type": "code",
   "execution_count": null,
   "metadata": {},
   "outputs": [],
   "source": [
    "len(experienced_writer_list)"
   ]
  },
  {
   "cell_type": "code",
   "execution_count": null,
   "metadata": {},
   "outputs": [],
   "source": []
  }
 ],
 "metadata": {
  "kernelspec": {
   "display_name": "learn-env",
   "language": "python",
   "name": "learn-env"
  },
  "language_info": {
   "codemirror_mode": {
    "name": "ipython",
    "version": 3
   },
   "file_extension": ".py",
   "mimetype": "text/x-python",
   "name": "python",
   "nbconvert_exporter": "python",
   "pygments_lexer": "ipython3",
   "version": "3.6.9"
  }
 },
 "nbformat": 4,
 "nbformat_minor": 4
}
